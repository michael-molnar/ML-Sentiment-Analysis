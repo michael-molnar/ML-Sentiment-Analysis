{
 "cells": [
  {
   "cell_type": "markdown",
   "metadata": {},
   "source": [
    "### AIDI 1002 - AI Algorithms - Final Project\n",
    "\n",
    "### Sentiment Analysis\n",
    "\n",
    "Michael Molnar - Durham College #100806823\n",
    "\n",
    "## Notebook 3:  Model Preparation, Testing, and Analysis"
   ]
  },
  {
   "cell_type": "markdown",
   "metadata": {},
   "source": [
    "#### Problem Statement:\n",
    "\n",
    "How can we use machine learning to automatically extract the sentiment of every review, comment, blog post, or news article that mentions your business or your products?  \n",
    "\n",
    "This project will create a model that will automatically analyze text and predict its sentiment - negative, neutral, or positive.  This solution will allow a business to automatically parse reviews and comments it receives, sorting them, and allowing for the analyis of how customers feel about the business and brand.  This analysis will allow for a company to determine how feelings towards the company change over time, or after the release of a new product or a shift in direction.  Unhappy customers can be automatically identified and prioritized.  \n",
    "\n",
    "The proposed solution will be a classification model trained on real product reviews to identify the key words and phrases that most accurately predict the sentiment of a sample of text."
   ]
  },
  {
   "cell_type": "markdown",
   "metadata": {},
   "source": [
    "#### Focus of Notebook 3:\n",
    "\n",
    "In this notebook I will focus on algorithm testing.  I will first split the cleaned data into training and testing.  Then, I will downsample the majority class to evenly distribute the targets in the training data.  \n",
    "\n",
    "Next I will chose an evaluation metric.  This will be a multiclass classification problem with evenly distributed classes, and so I will use accuracy score and f1 score.  I will use Count Vectorizer to transform the text into a useable form for the algorithms.  I will test using unigrams (words), bigrams (two word combinations), and the combination of the two.  \n",
    "\n",
    "I will test the following classifcation algorithms:\n",
    "- Decision Tree\n",
    "- Random Forest\n",
    "- Logistic Regression \n",
    "- Support Vector Machines \n",
    "- Naive Bayes\n",
    "- k-Nearest Neighbors \n",
    "\n",
    "From there I will tune the most successful algorithms and select the one I will use for my final model."
   ]
  },
  {
   "cell_type": "markdown",
   "metadata": {},
   "source": [
    "### Import the Necessary Packages"
   ]
  },
  {
   "cell_type": "code",
   "execution_count": 1,
   "metadata": {},
   "outputs": [],
   "source": [
    "import pandas as pd\n",
    "import numpy as np\n",
    "import matplotlib.pyplot as plt\n",
    "import seaborn as sns\n",
    "from sklearn.model_selection import train_test_split\n",
    "from sklearn.utils import resample\n",
    "from sklearn.feature_extraction.text import CountVectorizer \n",
    "from sklearn.metrics import accuracy_score\n",
    "from sklearn.metrics import f1_score\n",
    "from sklearn.metrics import classification_report\n",
    "from sklearn.tree import DecisionTreeClassifier\n",
    "from sklearn.ensemble import RandomForestClassifier\n",
    "from sklearn.linear_model import LogisticRegression\n",
    "from sklearn.svm import SVC\n",
    "from sklearn.naive_bayes import MultinomialNB\n",
    "from sklearn.neighbors import KNeighborsClassifier\n",
    "from nltk.stem import SnowballStemmer"
   ]
  },
  {
   "cell_type": "markdown",
   "metadata": {},
   "source": [
    "### Loading the Cleaned Data"
   ]
  },
  {
   "cell_type": "code",
   "execution_count": 2,
   "metadata": {},
   "outputs": [],
   "source": [
    "clean_df = pd.read_csv('clean_review_text.csv')"
   ]
  },
  {
   "cell_type": "code",
   "execution_count": 3,
   "metadata": {},
   "outputs": [
    {
     "data": {
      "text/plain": [
       "(493265, 3)"
      ]
     },
     "execution_count": 3,
     "metadata": {},
     "output_type": "execute_result"
    }
   ],
   "source": [
    "clean_df.shape"
   ]
  },
  {
   "cell_type": "code",
   "execution_count": 4,
   "metadata": {},
   "outputs": [
    {
     "data": {
      "text/html": [
       "<div>\n",
       "<style scoped>\n",
       "    .dataframe tbody tr th:only-of-type {\n",
       "        vertical-align: middle;\n",
       "    }\n",
       "\n",
       "    .dataframe tbody tr th {\n",
       "        vertical-align: top;\n",
       "    }\n",
       "\n",
       "    .dataframe thead th {\n",
       "        text-align: right;\n",
       "    }\n",
       "</style>\n",
       "<table border=\"1\" class=\"dataframe\">\n",
       "  <thead>\n",
       "    <tr style=\"text-align: right;\">\n",
       "      <th></th>\n",
       "      <th>Unnamed: 0</th>\n",
       "      <th>reviewText</th>\n",
       "      <th>sentiment</th>\n",
       "    </tr>\n",
       "  </thead>\n",
       "  <tbody>\n",
       "    <tr>\n",
       "      <th>0</th>\n",
       "      <td>0</td>\n",
       "      <td>contains interesting stitches</td>\n",
       "      <td>positive</td>\n",
       "    </tr>\n",
       "    <tr>\n",
       "      <th>1</th>\n",
       "      <td>1</td>\n",
       "      <td>fairly experienced knitter onecolor color bloc...</td>\n",
       "      <td>positive</td>\n",
       "    </tr>\n",
       "    <tr>\n",
       "      <th>2</th>\n",
       "      <td>2</td>\n",
       "      <td>great book index terrible write high light cro...</td>\n",
       "      <td>positive</td>\n",
       "    </tr>\n",
       "    <tr>\n",
       "      <th>3</th>\n",
       "      <td>3</td>\n",
       "      <td>purchased kindle edition incredibly handy part...</td>\n",
       "      <td>positive</td>\n",
       "    </tr>\n",
       "    <tr>\n",
       "      <th>4</th>\n",
       "      <td>4</td>\n",
       "      <td>very well laid very easy read book also nice s...</td>\n",
       "      <td>positive</td>\n",
       "    </tr>\n",
       "  </tbody>\n",
       "</table>\n",
       "</div>"
      ],
      "text/plain": [
       "   Unnamed: 0                                         reviewText sentiment\n",
       "0           0                      contains interesting stitches  positive\n",
       "1           1  fairly experienced knitter onecolor color bloc...  positive\n",
       "2           2  great book index terrible write high light cro...  positive\n",
       "3           3  purchased kindle edition incredibly handy part...  positive\n",
       "4           4  very well laid very easy read book also nice s...  positive"
      ]
     },
     "execution_count": 4,
     "metadata": {},
     "output_type": "execute_result"
    }
   ],
   "source": [
    "clean_df.head()"
   ]
  },
  {
   "cell_type": "code",
   "execution_count": 6,
   "metadata": {},
   "outputs": [
    {
     "data": {
      "text/html": [
       "<div>\n",
       "<style scoped>\n",
       "    .dataframe tbody tr th:only-of-type {\n",
       "        vertical-align: middle;\n",
       "    }\n",
       "\n",
       "    .dataframe tbody tr th {\n",
       "        vertical-align: top;\n",
       "    }\n",
       "\n",
       "    .dataframe thead th {\n",
       "        text-align: right;\n",
       "    }\n",
       "</style>\n",
       "<table border=\"1\" class=\"dataframe\">\n",
       "  <thead>\n",
       "    <tr style=\"text-align: right;\">\n",
       "      <th></th>\n",
       "      <th>reviewText</th>\n",
       "      <th>sentiment</th>\n",
       "    </tr>\n",
       "  </thead>\n",
       "  <tbody>\n",
       "    <tr>\n",
       "      <th>0</th>\n",
       "      <td>contains interesting stitches</td>\n",
       "      <td>positive</td>\n",
       "    </tr>\n",
       "    <tr>\n",
       "      <th>1</th>\n",
       "      <td>fairly experienced knitter onecolor color bloc...</td>\n",
       "      <td>positive</td>\n",
       "    </tr>\n",
       "    <tr>\n",
       "      <th>2</th>\n",
       "      <td>great book index terrible write high light cro...</td>\n",
       "      <td>positive</td>\n",
       "    </tr>\n",
       "    <tr>\n",
       "      <th>3</th>\n",
       "      <td>purchased kindle edition incredibly handy part...</td>\n",
       "      <td>positive</td>\n",
       "    </tr>\n",
       "    <tr>\n",
       "      <th>4</th>\n",
       "      <td>very well laid very easy read book also nice s...</td>\n",
       "      <td>positive</td>\n",
       "    </tr>\n",
       "    <tr>\n",
       "      <th>...</th>\n",
       "      <td>...</td>\n",
       "      <td>...</td>\n",
       "    </tr>\n",
       "    <tr>\n",
       "      <th>493260</th>\n",
       "      <td>not love price watercolor pens not messy score</td>\n",
       "      <td>positive</td>\n",
       "    </tr>\n",
       "    <tr>\n",
       "      <th>493261</th>\n",
       "      <td>lots color markers</td>\n",
       "      <td>positive</td>\n",
       "    </tr>\n",
       "    <tr>\n",
       "      <th>493262</th>\n",
       "      <td>really fun use love watercolor not know made w...</td>\n",
       "      <td>positive</td>\n",
       "    </tr>\n",
       "    <tr>\n",
       "      <th>493263</th>\n",
       "      <td>box says vibrant colors only pencils actually ...</td>\n",
       "      <td>negative</td>\n",
       "    </tr>\n",
       "    <tr>\n",
       "      <th>493264</th>\n",
       "      <td>core very hard not transfer color paper well p...</td>\n",
       "      <td>neutral</td>\n",
       "    </tr>\n",
       "  </tbody>\n",
       "</table>\n",
       "<p>493265 rows × 2 columns</p>\n",
       "</div>"
      ],
      "text/plain": [
       "                                               reviewText sentiment\n",
       "0                           contains interesting stitches  positive\n",
       "1       fairly experienced knitter onecolor color bloc...  positive\n",
       "2       great book index terrible write high light cro...  positive\n",
       "3       purchased kindle edition incredibly handy part...  positive\n",
       "4       very well laid very easy read book also nice s...  positive\n",
       "...                                                   ...       ...\n",
       "493260     not love price watercolor pens not messy score  positive\n",
       "493261                                 lots color markers  positive\n",
       "493262  really fun use love watercolor not know made w...  positive\n",
       "493263  box says vibrant colors only pencils actually ...  negative\n",
       "493264  core very hard not transfer color paper well p...   neutral\n",
       "\n",
       "[493265 rows x 2 columns]"
      ]
     },
     "execution_count": 6,
     "metadata": {},
     "output_type": "execute_result"
    }
   ],
   "source": [
    "clean_df.drop(columns=['Unnamed: 0'])"
   ]
  },
  {
   "cell_type": "markdown",
   "metadata": {},
   "source": [
    "Save the text into X and the sentiment, the targets, into y"
   ]
  },
  {
   "cell_type": "code",
   "execution_count": 7,
   "metadata": {},
   "outputs": [],
   "source": [
    "X = clean_df['reviewText']\n",
    "y = clean_df['sentiment']"
   ]
  },
  {
   "cell_type": "code",
   "execution_count": 8,
   "metadata": {},
   "outputs": [
    {
     "data": {
      "text/plain": [
       "(493265,)"
      ]
     },
     "execution_count": 8,
     "metadata": {},
     "output_type": "execute_result"
    }
   ],
   "source": [
    "# Check the shape \n",
    "X.shape"
   ]
  },
  {
   "cell_type": "code",
   "execution_count": 9,
   "metadata": {},
   "outputs": [
    {
     "data": {
      "text/plain": [
       "(493265,)"
      ]
     },
     "execution_count": 9,
     "metadata": {},
     "output_type": "execute_result"
    }
   ],
   "source": [
    "# Check the shape \n",
    "y.shape"
   ]
  },
  {
   "cell_type": "markdown",
   "metadata": {},
   "source": [
    "### Split into Training and Testing Data"
   ]
  },
  {
   "cell_type": "markdown",
   "metadata": {},
   "source": [
    "After the split I will be heavily downsampling the positive class within the training dataset.  For this reason I am making the training set very small here.  The result will be that the training/testing split will be close to 80/20 once I resample the training data."
   ]
  },
  {
   "cell_type": "code",
   "execution_count": 10,
   "metadata": {},
   "outputs": [],
   "source": [
    "(X_train, X_test, y_train, y_test) = train_test_split(X, y, test_size=0.05, random_state=0)"
   ]
  },
  {
   "cell_type": "code",
   "execution_count": 11,
   "metadata": {},
   "outputs": [
    {
     "name": "stdout",
     "output_type": "stream",
     "text": [
      "Shape of X_train:  (468601,)\n",
      "Shape of X_test:  (24664,)\n",
      "Shape of y_train:  (468601,)\n",
      "Shape of y_test:  (24664,)\n"
     ]
    }
   ],
   "source": [
    "print('Shape of X_train: ',X_train.shape)\n",
    "print('Shape of X_test: ',X_test.shape)\n",
    "print('Shape of y_train: ',y_train.shape)\n",
    "print('Shape of y_test: ',y_test.shape)"
   ]
  },
  {
   "cell_type": "markdown",
   "metadata": {},
   "source": [
    "### Examining the Training Data"
   ]
  },
  {
   "cell_type": "code",
   "execution_count": 12,
   "metadata": {},
   "outputs": [],
   "source": [
    "# Convert into a dataframe\n",
    "X_train = pd.DataFrame(X_train)"
   ]
  },
  {
   "cell_type": "code",
   "execution_count": 13,
   "metadata": {},
   "outputs": [],
   "source": [
    "# Append the labels back onto the dataframe\n",
    "X_train['label'] = y_train"
   ]
  },
  {
   "cell_type": "code",
   "execution_count": 14,
   "metadata": {},
   "outputs": [
    {
     "data": {
      "text/html": [
       "<div>\n",
       "<style scoped>\n",
       "    .dataframe tbody tr th:only-of-type {\n",
       "        vertical-align: middle;\n",
       "    }\n",
       "\n",
       "    .dataframe tbody tr th {\n",
       "        vertical-align: top;\n",
       "    }\n",
       "\n",
       "    .dataframe thead th {\n",
       "        text-align: right;\n",
       "    }\n",
       "</style>\n",
       "<table border=\"1\" class=\"dataframe\">\n",
       "  <thead>\n",
       "    <tr style=\"text-align: right;\">\n",
       "      <th></th>\n",
       "      <th>reviewText</th>\n",
       "      <th>label</th>\n",
       "    </tr>\n",
       "  </thead>\n",
       "  <tbody>\n",
       "    <tr>\n",
       "      <th>240017</th>\n",
       "      <td>good</td>\n",
       "      <td>positive</td>\n",
       "    </tr>\n",
       "    <tr>\n",
       "      <th>198869</th>\n",
       "      <td>loved much gave away lol pretty mess experimen...</td>\n",
       "      <td>positive</td>\n",
       "    </tr>\n",
       "    <tr>\n",
       "      <th>385992</th>\n",
       "      <td>good</td>\n",
       "      <td>positive</td>\n",
       "    </tr>\n",
       "    <tr>\n",
       "      <th>410577</th>\n",
       "      <td>great colors dual tip get very small places co...</td>\n",
       "      <td>positive</td>\n",
       "    </tr>\n",
       "    <tr>\n",
       "      <th>460059</th>\n",
       "      <td>wanted great</td>\n",
       "      <td>positive</td>\n",
       "    </tr>\n",
       "    <tr>\n",
       "      <th>...</th>\n",
       "      <td>...</td>\n",
       "      <td>...</td>\n",
       "    </tr>\n",
       "    <tr>\n",
       "      <th>439107</th>\n",
       "      <td>very good product easy use</td>\n",
       "      <td>positive</td>\n",
       "    </tr>\n",
       "    <tr>\n",
       "      <th>117952</th>\n",
       "      <td>good quality easy use spoon</td>\n",
       "      <td>positive</td>\n",
       "    </tr>\n",
       "    <tr>\n",
       "      <th>435829</th>\n",
       "      <td>thanks</td>\n",
       "      <td>positive</td>\n",
       "    </tr>\n",
       "    <tr>\n",
       "      <th>305711</th>\n",
       "      <td>best scissors cut appliqu pieces very comforta...</td>\n",
       "      <td>positive</td>\n",
       "    </tr>\n",
       "    <tr>\n",
       "      <th>461484</th>\n",
       "      <td>love set makes flower molding easy look beautiful</td>\n",
       "      <td>positive</td>\n",
       "    </tr>\n",
       "  </tbody>\n",
       "</table>\n",
       "<p>468601 rows × 2 columns</p>\n",
       "</div>"
      ],
      "text/plain": [
       "                                               reviewText     label\n",
       "240017                                               good  positive\n",
       "198869  loved much gave away lol pretty mess experimen...  positive\n",
       "385992                                               good  positive\n",
       "410577  great colors dual tip get very small places co...  positive\n",
       "460059                                       wanted great  positive\n",
       "...                                                   ...       ...\n",
       "439107                         very good product easy use  positive\n",
       "117952                        good quality easy use spoon  positive\n",
       "435829                                             thanks  positive\n",
       "305711  best scissors cut appliqu pieces very comforta...  positive\n",
       "461484  love set makes flower molding easy look beautiful  positive\n",
       "\n",
       "[468601 rows x 2 columns]"
      ]
     },
     "execution_count": 14,
     "metadata": {},
     "output_type": "execute_result"
    }
   ],
   "source": [
    "X_train"
   ]
  },
  {
   "cell_type": "code",
   "execution_count": 15,
   "metadata": {},
   "outputs": [],
   "source": [
    "# Create three subsets of the dataframe according to the three targets\n",
    "positives = X_train[X_train['label']=='positive']\n",
    "neutrals = X_train[X_train['label']=='neutral']\n",
    "negatives = X_train[X_train['label']=='negative']"
   ]
  },
  {
   "cell_type": "code",
   "execution_count": 16,
   "metadata": {},
   "outputs": [
    {
     "name": "stdout",
     "output_type": "stream",
     "text": [
      "Positive reviews: 415680\n",
      "Neutral reviews: 27164\n",
      "Negative reviews: 25757\n"
     ]
    }
   ],
   "source": [
    "# Get the lengths of these \n",
    "print(\"Positive reviews:\", len(positives))\n",
    "print(\"Neutral reviews:\", len(neutrals))\n",
    "print(\"Negative reviews:\", len(negatives))"
   ]
  },
  {
   "cell_type": "markdown",
   "metadata": {},
   "source": [
    "### Downsampling the Majority Classes"
   ]
  },
  {
   "cell_type": "markdown",
   "metadata": {},
   "source": [
    "I will make use of Scikit Learn's resample in order to balance the classes in the training data.  I will downsample both the positive and neutral sets so that the counts will correspond with that of the negative class. "
   ]
  },
  {
   "cell_type": "code",
   "execution_count": 17,
   "metadata": {},
   "outputs": [],
   "source": [
    "# Downsample the positive class without replacement \n",
    "pos_downsampled = resample(positives,\n",
    "                          replace=False,\n",
    "                          n_samples = len(negatives),\n",
    "                          random_state=0)"
   ]
  },
  {
   "cell_type": "code",
   "execution_count": 18,
   "metadata": {},
   "outputs": [],
   "source": [
    "# Downsample the neutral class without replacement \n",
    "neu_downsampled = resample(neutrals,\n",
    "                          replace=False,\n",
    "                          n_samples = len(negatives),\n",
    "                          random_state=0)"
   ]
  },
  {
   "cell_type": "code",
   "execution_count": 19,
   "metadata": {},
   "outputs": [],
   "source": [
    "# Combine the negative class and these two new classes into X_train\n",
    "X_train = pd.concat([pos_downsampled, neu_downsampled, negatives])"
   ]
  },
  {
   "cell_type": "code",
   "execution_count": 20,
   "metadata": {},
   "outputs": [
    {
     "data": {
      "text/plain": [
       "positive    25757\n",
       "negative    25757\n",
       "neutral     25757\n",
       "Name: label, dtype: int64"
      ]
     },
     "execution_count": 20,
     "metadata": {},
     "output_type": "execute_result"
    }
   ],
   "source": [
    "# Check the label counts\n",
    "X_train['label'].value_counts()"
   ]
  },
  {
   "cell_type": "code",
   "execution_count": 21,
   "metadata": {},
   "outputs": [
    {
     "data": {
      "text/html": [
       "<div>\n",
       "<style scoped>\n",
       "    .dataframe tbody tr th:only-of-type {\n",
       "        vertical-align: middle;\n",
       "    }\n",
       "\n",
       "    .dataframe tbody tr th {\n",
       "        vertical-align: top;\n",
       "    }\n",
       "\n",
       "    .dataframe thead th {\n",
       "        text-align: right;\n",
       "    }\n",
       "</style>\n",
       "<table border=\"1\" class=\"dataframe\">\n",
       "  <thead>\n",
       "    <tr style=\"text-align: right;\">\n",
       "      <th></th>\n",
       "      <th>reviewText</th>\n",
       "      <th>label</th>\n",
       "    </tr>\n",
       "  </thead>\n",
       "  <tbody>\n",
       "    <tr>\n",
       "      <th>392906</th>\n",
       "      <td>daughter loved set</td>\n",
       "      <td>positive</td>\n",
       "    </tr>\n",
       "    <tr>\n",
       "      <th>313050</th>\n",
       "      <td>really like using stencil texture effects pain...</td>\n",
       "      <td>positive</td>\n",
       "    </tr>\n",
       "    <tr>\n",
       "      <th>172906</th>\n",
       "      <td>love mat translucent able use much art project...</td>\n",
       "      <td>positive</td>\n",
       "    </tr>\n",
       "    <tr>\n",
       "      <th>342687</th>\n",
       "      <td>nice texture</td>\n",
       "      <td>positive</td>\n",
       "    </tr>\n",
       "    <tr>\n",
       "      <th>371334</th>\n",
       "      <td>very good</td>\n",
       "      <td>positive</td>\n",
       "    </tr>\n",
       "    <tr>\n",
       "      <th>...</th>\n",
       "      <td>...</td>\n",
       "      <td>...</td>\n",
       "    </tr>\n",
       "    <tr>\n",
       "      <th>100796</th>\n",
       "      <td>horrible smear constantly even not move paper ...</td>\n",
       "      <td>negative</td>\n",
       "    </tr>\n",
       "    <tr>\n",
       "      <th>268665</th>\n",
       "      <td>dont let cotton yarn slide</td>\n",
       "      <td>negative</td>\n",
       "    </tr>\n",
       "    <tr>\n",
       "      <th>237824</th>\n",
       "      <td>daughter wanted nylon cord making bracelets no...</td>\n",
       "      <td>negative</td>\n",
       "    </tr>\n",
       "    <tr>\n",
       "      <th>211543</th>\n",
       "      <td>not work top mount bobbin even though cut arou...</td>\n",
       "      <td>negative</td>\n",
       "    </tr>\n",
       "    <tr>\n",
       "      <th>122579</th>\n",
       "      <td>wish would only bought one bought medium large...</td>\n",
       "      <td>negative</td>\n",
       "    </tr>\n",
       "  </tbody>\n",
       "</table>\n",
       "<p>77271 rows × 2 columns</p>\n",
       "</div>"
      ],
      "text/plain": [
       "                                               reviewText     label\n",
       "392906                                 daughter loved set  positive\n",
       "313050  really like using stencil texture effects pain...  positive\n",
       "172906  love mat translucent able use much art project...  positive\n",
       "342687                                       nice texture  positive\n",
       "371334                                          very good  positive\n",
       "...                                                   ...       ...\n",
       "100796  horrible smear constantly even not move paper ...  negative\n",
       "268665                         dont let cotton yarn slide  negative\n",
       "237824  daughter wanted nylon cord making bracelets no...  negative\n",
       "211543  not work top mount bobbin even though cut arou...  negative\n",
       "122579  wish would only bought one bought medium large...  negative\n",
       "\n",
       "[77271 rows x 2 columns]"
      ]
     },
     "execution_count": 21,
     "metadata": {},
     "output_type": "execute_result"
    }
   ],
   "source": [
    "X_train"
   ]
  },
  {
   "cell_type": "code",
   "execution_count": 22,
   "metadata": {},
   "outputs": [
    {
     "data": {
      "text/plain": [
       "(24664,)"
      ]
     },
     "execution_count": 22,
     "metadata": {},
     "output_type": "execute_result"
    }
   ],
   "source": [
    "# Get the size of the testing dataset \n",
    "X_test.shape"
   ]
  },
  {
   "cell_type": "markdown",
   "metadata": {},
   "source": [
    "We see that now the training dataset is about three times that of the testing - or about a 75-25 split after the downsampling."
   ]
  },
  {
   "cell_type": "code",
   "execution_count": 23,
   "metadata": {},
   "outputs": [],
   "source": [
    "# Make y_train the labels and X_train the text once again\n",
    "y_train = X_train['label']\n",
    "X_train = X_train.drop(columns=['label'])\n",
    "X_train = X_train['reviewText']"
   ]
  },
  {
   "cell_type": "markdown",
   "metadata": {},
   "source": [
    "### Choosing an Evaluation Metric"
   ]
  },
  {
   "cell_type": "markdown",
   "metadata": {},
   "source": [
    "As mentioned, this is a multiclass classification problem now with an even distribution of labels.  For this reason I will use accuracy score (the percentage of labels corectly predicted).  "
   ]
  },
  {
   "cell_type": "markdown",
   "metadata": {},
   "source": [
    "### Explaining Count Vectorizer"
   ]
  },
  {
   "cell_type": "markdown",
   "metadata": {},
   "source": [
    "I will use the Count Vectorizer to transform the text data into a useable form.  This is fit on the training data and creates a sparse matrix.  The columns of the matrix are the individual unique words that appear in the training dataset.  The rows correspond to the rows of the training data.  Each entry is the number of times that word appears in that row.  Using the Count Vectorizer allows me to do this model testing by unigrams, bigrams, a combination of these, or any other number of lenghts.  "
   ]
  },
  {
   "cell_type": "code",
   "execution_count": 25,
   "metadata": {},
   "outputs": [],
   "source": [
    "# Create a Count Vectorizer object\n",
    "vectorizer = CountVectorizer()\n",
    "\n",
    "# Fit on the training data and transform the training and testing data\n",
    "X_train_cv = vectorizer.fit_transform(X_train)\n",
    "X_test_cv = vectorizer.transform(X_test)"
   ]
  },
  {
   "cell_type": "code",
   "execution_count": 26,
   "metadata": {},
   "outputs": [
    {
     "name": "stdout",
     "output_type": "stream",
     "text": [
      "Vocabulary length: 39376\n"
     ]
    }
   ],
   "source": [
    "# Print vocabulary length (the number of unique words in the training data)\n",
    "print('Vocabulary length:', len(vectorizer.get_feature_names()))"
   ]
  },
  {
   "cell_type": "code",
   "execution_count": 27,
   "metadata": {
    "scrolled": true
   },
   "outputs": [
    {
     "data": {
      "text/plain": [
       "<77271x39376 sparse matrix of type '<class 'numpy.int64'>'\n",
       "\twith 1405133 stored elements in Compressed Sparse Row format>"
      ]
     },
     "execution_count": 27,
     "metadata": {},
     "output_type": "execute_result"
    }
   ],
   "source": [
    "# Examine the matrix \n",
    "X_train_cv"
   ]
  },
  {
   "cell_type": "markdown",
   "metadata": {},
   "source": [
    "There are 77,271 rows in the training data and 39,376 unique words.  "
   ]
  },
  {
   "cell_type": "markdown",
   "metadata": {},
   "source": [
    "### Testing Classification Algorithms"
   ]
  },
  {
   "cell_type": "markdown",
   "metadata": {},
   "source": [
    "As mentioned in the introduction I will be testing six models for this classification problem.  These are Decision Trees, Random Forest, Logistic Regression, Support Vector Machines, Naive Bayes, and k-Nearest Neighbours."
   ]
  },
  {
   "cell_type": "markdown",
   "metadata": {},
   "source": [
    "### Approach 1:  Unigrams"
   ]
  },
  {
   "cell_type": "markdown",
   "metadata": {},
   "source": [
    "I will fit the six models using the just created Count Vectorizer."
   ]
  },
  {
   "cell_type": "markdown",
   "metadata": {},
   "source": [
    "#### Decision Trees"
   ]
  },
  {
   "cell_type": "code",
   "execution_count": 28,
   "metadata": {},
   "outputs": [
    {
     "data": {
      "text/plain": [
       "DecisionTreeClassifier()"
      ]
     },
     "execution_count": 28,
     "metadata": {},
     "output_type": "execute_result"
    }
   ],
   "source": [
    "# Fit a decision tree classifier \n",
    "dt = DecisionTreeClassifier()\n",
    "dt.fit(X_train_cv, y_train)"
   ]
  },
  {
   "cell_type": "code",
   "execution_count": 29,
   "metadata": {},
   "outputs": [],
   "source": [
    "# Predict the labels for the training and testing data\n",
    "dt_train_preds = dt.predict(X_train_cv)\n",
    "dt_preds = dt.predict(X_test_cv)"
   ]
  },
  {
   "cell_type": "code",
   "execution_count": 30,
   "metadata": {},
   "outputs": [
    {
     "name": "stdout",
     "output_type": "stream",
     "text": [
      "Training Accuracy: 0.9832278603874675\n",
      "Testing Accuracy: 0.7268488485241648\n"
     ]
    }
   ],
   "source": [
    "# Calculate the accuracy scores \n",
    "dt_train_acc = accuracy_score(y_train, dt_train_preds)\n",
    "dt_test_acc = accuracy_score(y_test, dt_preds)\n",
    "print(\"Training Accuracy:\", dt_train_acc)\n",
    "print(\"Testing Accuracy:\", dt_test_acc)"
   ]
  },
  {
   "cell_type": "markdown",
   "metadata": {},
   "source": [
    "#### Random Forest"
   ]
  },
  {
   "cell_type": "code",
   "execution_count": 31,
   "metadata": {},
   "outputs": [],
   "source": [
    "# Fit a random forest classifer  \n",
    "rf = RandomForestClassifier(n_estimators = 100)\n",
    "rf.fit(X_train_cv, y_train)\n",
    "\n",
    "# Predict the labels for training and testing data\n",
    "rf_train_preds = rf.predict(X_train_cv)\n",
    "rf_preds = rf.predict(X_test_cv)"
   ]
  },
  {
   "cell_type": "code",
   "execution_count": 34,
   "metadata": {},
   "outputs": [
    {
     "name": "stdout",
     "output_type": "stream",
     "text": [
      "Training Accuracy: 0.9832278603874675\n",
      "Testing Accuracy: 0.7724213428478754\n"
     ]
    }
   ],
   "source": [
    "# Calculate the accuracy scores\n",
    "rf_train_acc = accuracy_score(y_train, rf_train_preds)\n",
    "rf_test_acc = accuracy_score(y_test, rf_preds)\n",
    "print(\"Training Accuracy:\", rf_train_acc)\n",
    "print(\"Testing Accuracy:\", rf_test_acc)"
   ]
  },
  {
   "cell_type": "markdown",
   "metadata": {},
   "source": [
    "#### Logistic Regression"
   ]
  },
  {
   "cell_type": "code",
   "execution_count": 35,
   "metadata": {},
   "outputs": [
    {
     "name": "stdout",
     "output_type": "stream",
     "text": [
      "Training Accuracy: 0.808660428880175\n",
      "Testing Accuracy: 0.832833279273435\n"
     ]
    },
    {
     "name": "stderr",
     "output_type": "stream",
     "text": [
      "C:\\Users\\mdjm0\\anaconda3\\lib\\site-packages\\sklearn\\svm\\_base.py:976: ConvergenceWarning: Liblinear failed to converge, increase the number of iterations.\n",
      "  warnings.warn(\"Liblinear failed to converge, increase \"\n"
     ]
    }
   ],
   "source": [
    "# Fit a logistic regression classifier \n",
    "lr = LogisticRegression(solver='liblinear')\n",
    "lr.fit(X_train_cv, y_train) \n",
    "\n",
    "# Predict the labels for training and testing data \n",
    "lr_train_preds = lr.predict(X_train_cv)\n",
    "lr_preds = lr.predict(X_test_cv)\n",
    "\n",
    "# Calculate the accuracy scores \n",
    "lr_train_acc = accuracy_score(y_train, lr_train_preds)\n",
    "lr_test_acc = accuracy_score(y_test, lr_preds)\n",
    "print(\"Training Accuracy:\", lr_train_acc)\n",
    "print(\"Testing Accuracy:\", lr_test_acc)"
   ]
  },
  {
   "cell_type": "markdown",
   "metadata": {},
   "source": [
    "#### Support Vector Machines"
   ]
  },
  {
   "cell_type": "code",
   "execution_count": 36,
   "metadata": {},
   "outputs": [
    {
     "name": "stdout",
     "output_type": "stream",
     "text": [
      "Training Accuracy: 0.8444176987485602\n",
      "Testing Accuracy: 0.7990593577684074\n"
     ]
    }
   ],
   "source": [
    "# Fit an SVC classifier \n",
    "svc = SVC()\n",
    "svc.fit(X_train_cv, y_train) \n",
    "\n",
    "# Predict the labels for training and testing data \n",
    "svc_train_preds = svc.predict(X_train_cv)\n",
    "svc_preds = svc.predict(X_test_cv)\n",
    "\n",
    "# Calculate the accuracy scores \n",
    "svc_train_acc = accuracy_score(y_train, svc_train_preds)\n",
    "svc_test_acc = accuracy_score(y_test, svc_preds)\n",
    "print(\"Training Accuracy:\", svc_train_acc)\n",
    "print(\"Testing Accuracy:\", svc_test_acc)"
   ]
  },
  {
   "cell_type": "markdown",
   "metadata": {},
   "source": [
    "#### Multinomial Naive Bayes"
   ]
  },
  {
   "cell_type": "code",
   "execution_count": 37,
   "metadata": {},
   "outputs": [
    {
     "name": "stdout",
     "output_type": "stream",
     "text": [
      "Training Accuracy: 0.7599099273983771\n",
      "Testing Accuracy: 0.7819493999351281\n"
     ]
    }
   ],
   "source": [
    "# Fit a Multinomial Naive Bayes classifier \n",
    "nb = MultinomialNB()\n",
    "nb.fit(X_train_cv, y_train)\n",
    "\n",
    "# Predict the labels for training and testing data\n",
    "nb_train_preds = nb.predict(X_train_cv)\n",
    "nb_preds = nb.predict(X_test_cv)\n",
    "\n",
    "# Calculate the accuracy scores \n",
    "nb_train_acc = accuracy_score(y_train, nb_train_preds)\n",
    "nb_test_acc = accuracy_score(y_test, nb_preds)\n",
    "print(\"Training Accuracy:\", nb_train_acc)\n",
    "print(\"Testing Accuracy:\", nb_test_acc)"
   ]
  },
  {
   "cell_type": "markdown",
   "metadata": {},
   "source": [
    "#### K-Nearest Neighbours"
   ]
  },
  {
   "cell_type": "code",
   "execution_count": 38,
   "metadata": {},
   "outputs": [
    {
     "name": "stdout",
     "output_type": "stream",
     "text": [
      "Training Accuracy: 0.7398765384167411\n",
      "Testing Accuracy: 0.8005595199481025\n"
     ]
    }
   ],
   "source": [
    "# Fit a KNN Classifier \n",
    "knn = KNeighborsClassifier(n_neighbors=3)\n",
    "knn.fit(X_train_cv, y_train)\n",
    "\n",
    "# Predict the labels for training and testing data\n",
    "knn_train_preds = knn.predict(X_train_cv)\n",
    "knn_preds = knn.predict(X_test_cv)\n",
    "\n",
    "# Calculate the accuracy scores \n",
    "knn_train_acc = accuracy_score(y_train, knn_train_preds)\n",
    "knn_test_acc = accuracy_score(y_test, knn_preds)\n",
    "print(\"Training Accuracy:\", knn_train_acc)\n",
    "print(\"Testing Accuracy:\", knn_test_acc)"
   ]
  },
  {
   "cell_type": "code",
   "execution_count": 39,
   "metadata": {},
   "outputs": [],
   "source": [
    "# Compile the training and testing accuracies\n",
    "train_acc = {'DT': dt_train_acc, 'RF': rf_train_acc, 'LR': lr_train_acc, 'SVC': svc_train_acc, \n",
    "             'NB': nb_train_acc, 'KNN': knn_train_acc}\n",
    "test_acc = {'DT': dt_test_acc, 'RF': rf_test_acc, 'LR': lr_test_acc, 'SVC': svc_test_acc, \n",
    "            'NB': nb_test_acc, 'KNN': knn_test_acc}"
   ]
  },
  {
   "cell_type": "code",
   "execution_count": 43,
   "metadata": {},
   "outputs": [
    {
     "data": {
      "image/png": "[encoded data removed]",
      "text/plain": [
       "<Figure size 432x288 with 1 Axes>"
      ]
     },
     "metadata": {
      "needs_background": "light"
     },
     "output_type": "display_data"
    }
   ],
   "source": [
    "# Plot the training accuracies for each classifier \n",
    "plt.bar(train_acc.keys(), train_acc.values(), color='g')\n",
    "plt.title(\"Training Accuray with Unigrams\")\n",
    "plt.show()"
   ]
  },
  {
   "cell_type": "code",
   "execution_count": 42,
   "metadata": {},
   "outputs": [
    {
     "data": {
      "image/png": "[encoded data removed]",
      "text/plain": [
       "<Figure size 432x288 with 1 Axes>"
      ]
     },
     "metadata": {
      "needs_background": "light"
     },
     "output_type": "display_data"
    }
   ],
   "source": [
    "# Plot the testing accuracies for each classifier \n",
    "plt.bar(test_acc.keys(), test_acc.values())\n",
    "plt.title(\"Testing Accuracy with Unigrams\")\n",
    "plt.show()"
   ]
  },
  {
   "cell_type": "markdown",
   "metadata": {},
   "source": [
    "All six models are between 70% and 80% accuracy on the testing data.  Decision Tree and Random Forest perform the best on the training data.  Decision Tree and SVC take significantly longer than the others.  Logistic Regression seems like the best bet in terms of accuracy and speed for now."
   ]
  },
  {
   "cell_type": "markdown",
   "metadata": {},
   "source": [
    "### Approach 2: Bigrams"
   ]
  },
  {
   "cell_type": "markdown",
   "metadata": {},
   "source": [
    "I will now re-vectorize the data, this time using bigrams.  I will check the new size of the vocabulary and then fit each of the same six models, checking their accuracies.  "
   ]
  },
  {
   "cell_type": "code",
   "execution_count": 44,
   "metadata": {},
   "outputs": [],
   "source": [
    "# Create the count vectorizer using bigrams\n",
    "vectorizer = CountVectorizer(ngram_range=(2,2))\n",
    "\n",
    "# Vectorization\n",
    "X_train_bcv = vectorizer.fit_transform(X_train)\n",
    "X_test_bcv = vectorizer.transform(X_test)"
   ]
  },
  {
   "cell_type": "code",
   "execution_count": 45,
   "metadata": {},
   "outputs": [
    {
     "name": "stdout",
     "output_type": "stream",
     "text": [
      "Vocabulary length: 681378\n"
     ]
    }
   ],
   "source": [
    "# Get the number of unique bigrams\n",
    "print('Vocabulary length:', len(vectorizer.get_feature_names()))"
   ]
  },
  {
   "cell_type": "code",
   "execution_count": 46,
   "metadata": {},
   "outputs": [
    {
     "data": {
      "text/plain": [
       "<77271x681378 sparse matrix of type '<class 'numpy.int64'>'\n",
       "\twith 1545737 stored elements in Compressed Sparse Row format>"
      ]
     },
     "execution_count": 46,
     "metadata": {},
     "output_type": "execute_result"
    }
   ],
   "source": [
    "X_train_bcv"
   ]
  },
  {
   "cell_type": "markdown",
   "metadata": {},
   "source": [
    "There are 681,378 bigrams in the 77,271 rows of the training dataset.  "
   ]
  },
  {
   "cell_type": "code",
   "execution_count": 47,
   "metadata": {},
   "outputs": [],
   "source": [
    "# Create a list of the six models\n",
    "models = []\n",
    "\n",
    "models.append(('dt', DecisionTreeClassifier()))\n",
    "models.append(('rf', RandomForestClassifier()))\n",
    "models.append(('lr', LogisticRegression()))\n",
    "models.append(('svc', SVC()))\n",
    "models.append(('nb', MultinomialNB()))\n",
    "models.append(('knn', KNeighborsClassifier()))"
   ]
  },
  {
   "cell_type": "code",
   "execution_count": 48,
   "metadata": {},
   "outputs": [
    {
     "name": "stderr",
     "output_type": "stream",
     "text": [
      "C:\\Users\\mdjm0\\anaconda3\\lib\\site-packages\\sklearn\\linear_model\\_logistic.py:762: ConvergenceWarning: lbfgs failed to converge (status=1):\n",
      "STOP: TOTAL NO. of ITERATIONS REACHED LIMIT.\n",
      "\n",
      "Increase the number of iterations (max_iter) or scale the data as shown in:\n",
      "    https://scikit-learn.org/stable/modules/preprocessing.html\n",
      "Please also refer to the documentation for alternative solver options:\n",
      "    https://scikit-learn.org/stable/modules/linear_model.html#logistic-regression\n",
      "  n_iter_i = _check_optimize_result(\n"
     ]
    },
    {
     "name": "stdout",
     "output_type": "stream",
     "text": [
      "  Name     Score\n",
      "0   dt  0.791275\n",
      "1   rf  0.824643\n",
      "2   lr  0.843416\n",
      "3  svc  0.834293\n",
      "4   nb  0.656828\n",
      "5  knn  0.773678\n"
     ]
    }
   ],
   "source": [
    "# Fit each of the six models and make the predictions and check the accuracies\n",
    "# Create a list of the scores for plotting\n",
    "names = []\n",
    "scores = []\n",
    "\n",
    "for name, model in models:\n",
    "    model.fit(X_train_bcv, y_train)\n",
    "    y_pred = model.predict(X_test_bcv)\n",
    "    scores.append(accuracy_score(y_test, y_pred))\n",
    "    names.append(name)\n",
    "\n",
    "model_scores = pd.DataFrame({'Name': names, 'Score': scores})\n",
    "print(model_scores)"
   ]
  },
  {
   "cell_type": "code",
   "execution_count": 49,
   "metadata": {},
   "outputs": [
    {
     "data": {
      "image/png": "[encoded data removed]",
      "text/plain": [
       "<Figure size 432x288 with 1 Axes>"
      ]
     },
     "metadata": {
      "needs_background": "light"
     },
     "output_type": "display_data"
    }
   ],
   "source": [
    "# Plot the accuracies\n",
    "axis = sns.barplot(x = 'Name', y = 'Score', data = model_scores)\n",
    "axis.set(xlabel='Classifier', ylabel='Accuracy')\n",
    "\n",
    "for p in axis.patches:\n",
    "    height = p.get_height()\n",
    "    axis.text(p.get_x() + p.get_width()/2, height + 0.005, '{:1.4f}'.format(height), ha=\"center\") \n",
    "    \n",
    "plt.show()"
   ]
  },
  {
   "cell_type": "markdown",
   "metadata": {},
   "source": [
    "Logistic Regression has performed the best once again and shows a slight improvement after using the bigrams as opposed to the unigrams.  Random Forest and SVC also perform quite well.  "
   ]
  },
  {
   "cell_type": "markdown",
   "metadata": {},
   "source": [
    "From this point on I will focus my efforts on Logistic Regression.  Logistic Regression has performed the most accurately so far and was much faster than Random Forest and Support Vector Machines.  To see if I can improve the model I will apply stemming to the text.  This transforms words into roots and will simply the dataset.  After that I will test Logistic Regression once again on bigrams, and then I will use a combination of unigrams and bigrams. "
   ]
  },
  {
   "cell_type": "markdown",
   "metadata": {},
   "source": [
    "### Approach 3:  Adding Stemming"
   ]
  },
  {
   "cell_type": "markdown",
   "metadata": {},
   "source": [
    "I will make use of NLTK's Snowball Stemmer for this.  Stemming will convert plurals to their singulars and generally reduce all words into shorter forms.\n",
    "\n",
    "(https://www.nltk.org/howto/stem.html)"
   ]
  },
  {
   "cell_type": "code",
   "execution_count": 50,
   "metadata": {},
   "outputs": [],
   "source": [
    "def stem_text(input):\n",
    "    # Create a stemmer object\n",
    "    stemmer = SnowballStemmer('english')\n",
    "    \n",
    "    #Split the text and use the stemmer on each word \n",
    "    text = input.split()\n",
    "    words = \"\"\n",
    "    for i in text:\n",
    "        words += (stemmer.stem(i))+' '\n",
    "    \n",
    "    # Return the recombined text\n",
    "    return words "
   ]
  },
  {
   "cell_type": "code",
   "execution_count": 54,
   "metadata": {},
   "outputs": [
    {
     "data": {
      "text/plain": [
       "'contains interesting stitches'"
      ]
     },
     "execution_count": 54,
     "metadata": {},
     "output_type": "execute_result"
    }
   ],
   "source": [
    "# Print a review to test\n",
    "clean_df['reviewText'][0]"
   ]
  },
  {
   "cell_type": "code",
   "execution_count": 55,
   "metadata": {},
   "outputs": [
    {
     "data": {
      "text/plain": [
       "'contain interest stitch '"
      ]
     },
     "execution_count": 55,
     "metadata": {},
     "output_type": "execute_result"
    }
   ],
   "source": [
    "# See the result after stemming\n",
    "stem_text(clean_df['reviewText'][0])"
   ]
  },
  {
   "cell_type": "code",
   "execution_count": 56,
   "metadata": {},
   "outputs": [],
   "source": [
    "# Use the stem_text function on the training data \n",
    "X_train2 = X_train.apply(stem_text)"
   ]
  },
  {
   "cell_type": "code",
   "execution_count": 57,
   "metadata": {},
   "outputs": [],
   "source": [
    "# Use the stem_text function on the testing data\n",
    "X_test2 = X_test.apply(stem_text)"
   ]
  },
  {
   "cell_type": "markdown",
   "metadata": {},
   "source": [
    "#### Logistic Regression with Bigrams and Stemming"
   ]
  },
  {
   "cell_type": "code",
   "execution_count": 58,
   "metadata": {},
   "outputs": [],
   "source": [
    "vectorizer = CountVectorizer(ngram_range=(2,2))\n",
    "\n",
    "# Vectorization\n",
    "X_train_bcv2 = vectorizer.fit_transform(X_train2)\n",
    "X_test_bcv2 = vectorizer.transform(X_test2)"
   ]
  },
  {
   "cell_type": "code",
   "execution_count": 59,
   "metadata": {},
   "outputs": [
    {
     "name": "stdout",
     "output_type": "stream",
     "text": [
      "Training Accuracy: 0.9498000543541562\n",
      "Testing Accuracy: 0.8508757703535518\n"
     ]
    }
   ],
   "source": [
    "# Fit a logistic regression classifier \n",
    "lr = LogisticRegression(solver='liblinear')\n",
    "lr.fit(X_train_bcv2, y_train) \n",
    "\n",
    "# Predict the labels for training and testing data \n",
    "lr_train_preds = lr.predict(X_train_bcv2)\n",
    "lr_preds = lr.predict(X_test_bcv2)\n",
    "\n",
    "# Calculate the accuracy scores \n",
    "lr_train_acc = accuracy_score(y_train, lr_train_preds)\n",
    "lr_test_acc = accuracy_score(y_test, lr_preds)\n",
    "print(\"Training Accuracy:\", lr_train_acc)\n",
    "print(\"Testing Accuracy:\", lr_test_acc)"
   ]
  },
  {
   "cell_type": "markdown",
   "metadata": {},
   "source": [
    "Stemming improves the test accuracy from about 84% to 85%.  Next I will fit a Count Vectorizer that will use both unigrams and bigrams."
   ]
  },
  {
   "cell_type": "markdown",
   "metadata": {},
   "source": [
    "### Approach 4:  Unigrams and Bigrams with Stemming"
   ]
  },
  {
   "cell_type": "code",
   "execution_count": 60,
   "metadata": {},
   "outputs": [],
   "source": [
    "vectorizer = CountVectorizer(ngram_range=(1,2))\n",
    "\n",
    "# Vectorization\n",
    "X_train_bcv3 = vectorizer.fit_transform(X_train2)\n",
    "X_test_bcv3 = vectorizer.transform(X_test2)"
   ]
  },
  {
   "cell_type": "code",
   "execution_count": 61,
   "metadata": {},
   "outputs": [
    {
     "name": "stdout",
     "output_type": "stream",
     "text": [
      "Vocabulary length: 584152\n"
     ]
    }
   ],
   "source": [
    "# Get the length of the vocabulary\n",
    "print('Vocabulary length:', len(vectorizer.get_feature_names()))"
   ]
  },
  {
   "cell_type": "code",
   "execution_count": 62,
   "metadata": {},
   "outputs": [
    {
     "data": {
      "text/plain": [
       "<77271x554885 sparse matrix of type '<class 'numpy.int64'>'\n",
       "\twith 1540296 stored elements in Compressed Sparse Row format>"
      ]
     },
     "execution_count": 62,
     "metadata": {},
     "output_type": "execute_result"
    }
   ],
   "source": [
    "X_train_bcv2"
   ]
  },
  {
   "cell_type": "markdown",
   "metadata": {},
   "source": [
    "There are a total of 554,885 unique unigrams and bigrams after the stemming process. "
   ]
  },
  {
   "cell_type": "code",
   "execution_count": 63,
   "metadata": {},
   "outputs": [
    {
     "name": "stdout",
     "output_type": "stream",
     "text": [
      "Training Accuracy: 0.9635309495153421\n",
      "Testing Accuracy: 0.8577278624716186\n"
     ]
    }
   ],
   "source": [
    "# Fit a logistic regression classifier \n",
    "lr = LogisticRegression(solver='liblinear')\n",
    "lr.fit(X_train_bcv3, y_train) \n",
    "\n",
    "# Predict the labels for training and testing data \n",
    "lr_train_preds = lr.predict(X_train_bcv3)\n",
    "lr_preds = lr.predict(X_test_bcv3)\n",
    "\n",
    "# Calculate the accuracy scores \n",
    "lr_train_acc = accuracy_score(y_train, lr_train_preds)\n",
    "lr_test_acc = accuracy_score(y_test, lr_preds)\n",
    "print(\"Training Accuracy:\", lr_train_acc)\n",
    "print(\"Testing Accuracy:\", lr_test_acc)"
   ]
  },
  {
   "cell_type": "markdown",
   "metadata": {},
   "source": [
    "Once again the accuracy is slightly improved."
   ]
  },
  {
   "cell_type": "markdown",
   "metadata": {},
   "source": [
    "### Approach 5:  Unigrams, Bigrams and Trigrams with Stemming"
   ]
  },
  {
   "cell_type": "code",
   "execution_count": 64,
   "metadata": {},
   "outputs": [],
   "source": [
    "vectorizer = CountVectorizer(ngram_range=(1,3))\n",
    "\n",
    "# Vectorization\n",
    "X_train_bcv4 = vectorizer.fit_transform(X_train2)\n",
    "X_test_bcv4 = vectorizer.transform(X_test2)"
   ]
  },
  {
   "cell_type": "code",
   "execution_count": 72,
   "metadata": {},
   "outputs": [
    {
     "name": "stdout",
     "output_type": "stream",
     "text": [
      "Vocabulary length: 1753074\n"
     ]
    }
   ],
   "source": [
    "print('Vocabulary length:', len(vectorizer.get_feature_names()))"
   ]
  },
  {
   "cell_type": "markdown",
   "metadata": {},
   "source": [
    "Using this approach we now have a much larger vocabulary - 1,753,074 unique entries."
   ]
  },
  {
   "cell_type": "code",
   "execution_count": 65,
   "metadata": {},
   "outputs": [
    {
     "name": "stdout",
     "output_type": "stream",
     "text": [
      "Training Accuracy: 0.974078244101927\n",
      "Testing Accuracy: 0.8607281868310087\n"
     ]
    }
   ],
   "source": [
    "lr = LogisticRegression(solver='liblinear')\n",
    "lr.fit(X_train_bcv4, y_train) \n",
    "lr_train_preds = lr.predict(X_train_bcv4)\n",
    "lr_preds = lr.predict(X_test_bcv4)\n",
    "lr_train_acc = accuracy_score(y_train, lr_train_preds)\n",
    "lr_test_acc = accuracy_score(y_test, lr_preds)\n",
    "print(\"Training Accuracy:\", lr_train_acc)\n",
    "print(\"Testing Accuracy:\", lr_test_acc)"
   ]
  },
  {
   "cell_type": "markdown",
   "metadata": {},
   "source": [
    "Once again the accuracy for training and testing are both slightly imporved.  I will continue with this model and see if I can improve the accuracy through hyperparameter tuning."
   ]
  },
  {
   "cell_type": "markdown",
   "metadata": {},
   "source": [
    "### Hyperparameter Tuning"
   ]
  },
  {
   "cell_type": "markdown",
   "metadata": {},
   "source": [
    "#### Liblinear Solver and One vs Rest "
   ]
  },
  {
   "cell_type": "markdown",
   "metadata": {},
   "source": [
    "For a multiclass problem such as this, the One vs Rest fits a binary classifier to each of the three labels."
   ]
  },
  {
   "cell_type": "code",
   "execution_count": 66,
   "metadata": {},
   "outputs": [
    {
     "name": "stdout",
     "output_type": "stream",
     "text": [
      "Training Accuracy: 0.974078244101927\n",
      "Testing Accuracy: 0.8607281868310087\n"
     ]
    }
   ],
   "source": [
    "lr = LogisticRegression(solver='liblinear', multi_class='ovr')\n",
    "lr.fit(X_train_bcv4, y_train) \n",
    "lr_train_preds = lr.predict(X_train_bcv4)\n",
    "lr_preds = lr.predict(X_test_bcv4)\n",
    "lr_train_acc = accuracy_score(y_train, lr_train_preds)\n",
    "lr_test_acc = accuracy_score(y_test, lr_preds)\n",
    "print(\"Training Accuracy:\", lr_train_acc)\n",
    "print(\"Testing Accuracy:\", lr_test_acc)"
   ]
  },
  {
   "cell_type": "markdown",
   "metadata": {},
   "source": [
    "#### Newton-CG Solver and Multinomial "
   ]
  },
  {
   "cell_type": "markdown",
   "metadata": {},
   "source": [
    "The multinomial parameter minimizes the multinomial loss across all data."
   ]
  },
  {
   "cell_type": "code",
   "execution_count": 68,
   "metadata": {},
   "outputs": [
    {
     "name": "stdout",
     "output_type": "stream",
     "text": [
      "Training Accuracy: 0.9778312691695461\n",
      "Testing Accuracy: 0.8516866688290626\n"
     ]
    }
   ],
   "source": [
    "lr = LogisticRegression(solver='newton-cg', multi_class='multinomial')\n",
    "lr.fit(X_train_bcv4, y_train) \n",
    "lr_train_preds = lr.predict(X_train_bcv4)\n",
    "lr_preds = lr.predict(X_test_bcv4)\n",
    "lr_train_acc = accuracy_score(y_train, lr_train_preds)\n",
    "lr_test_acc = accuracy_score(y_test, lr_preds)\n",
    "print(\"Training Accuracy:\", lr_train_acc)\n",
    "print(\"Testing Accuracy:\", lr_test_acc)"
   ]
  },
  {
   "cell_type": "markdown",
   "metadata": {},
   "source": [
    "#### Newton-CG Solver and One vs Rest"
   ]
  },
  {
   "cell_type": "code",
   "execution_count": 69,
   "metadata": {},
   "outputs": [
    {
     "name": "stdout",
     "output_type": "stream",
     "text": [
      "Training Accuracy: 0.9498000543541562\n",
      "Testing Accuracy: 0.8508757703535518\n"
     ]
    }
   ],
   "source": [
    "lr = LogisticRegression(solver='newton-cg', multi_class='ovr')\n",
    "lr.fit(X_train_bcv2, y_train) \n",
    "lr_train_preds = lr.predict(X_train_bcv2)\n",
    "lr_preds = lr.predict(X_test_bcv2)\n",
    "lr_train_acc = accuracy_score(y_train, lr_train_preds)\n",
    "lr_test_acc = accuracy_score(y_test, lr_preds)\n",
    "print(\"Training Accuracy:\", lr_train_acc)\n",
    "print(\"Testing Accuracy:\", lr_test_acc)"
   ]
  },
  {
   "cell_type": "markdown",
   "metadata": {},
   "source": [
    "#### Lowering the C-value "
   ]
  },
  {
   "cell_type": "markdown",
   "metadata": {},
   "source": [
    "A lowered C-value (the default is 1) increases regularization and reduces overfitting on the training data."
   ]
  },
  {
   "cell_type": "code",
   "execution_count": 70,
   "metadata": {},
   "outputs": [
    {
     "name": "stdout",
     "output_type": "stream",
     "text": [
      "Training Accuracy: 0.932031421878842\n",
      "Testing Accuracy: 0.8542409990269219\n"
     ]
    }
   ],
   "source": [
    "lr = LogisticRegression(solver='liblinear', multi_class='ovr', C = 0.50)\n",
    "lr.fit(X_train_bcv2, y_train) \n",
    "lr_train_preds = lr.predict(X_train_bcv2)\n",
    "lr_preds = lr.predict(X_test_bcv2)\n",
    "lr_train_acc = accuracy_score(y_train, lr_train_preds)\n",
    "lr_test_acc = accuracy_score(y_test, lr_preds)\n",
    "print(\"Training Accuracy:\", lr_train_acc)\n",
    "print(\"Testing Accuracy:\", lr_test_acc)"
   ]
  },
  {
   "cell_type": "code",
   "execution_count": 71,
   "metadata": {},
   "outputs": [
    {
     "name": "stdout",
     "output_type": "stream",
     "text": [
      "Training Accuracy: 0.8560261935266789\n",
      "Testing Accuracy: 0.8589847551086603\n"
     ]
    }
   ],
   "source": [
    "lr = LogisticRegression(solver='liblinear', multi_class='ovr', C = 0.1)\n",
    "lr.fit(X_train_bcv2, y_train) \n",
    "lr_train_preds = lr.predict(X_train_bcv2)\n",
    "lr_preds = lr.predict(X_test_bcv2)\n",
    "lr_train_acc = accuracy_score(y_train, lr_train_preds)\n",
    "lr_test_acc = accuracy_score(y_test, lr_preds)\n",
    "print(\"Training Accuracy:\", lr_train_acc)\n",
    "print(\"Testing Accuracy:\", lr_test_acc)"
   ]
  },
  {
   "cell_type": "markdown",
   "metadata": {},
   "source": [
    "The best result obtained is with the liblinear solver and the One vs Rest multiclass parameter.  This will be the model used in the next notebook to extract labels for new text."
   ]
  },
  {
   "cell_type": "markdown",
   "metadata": {},
   "source": [
    "### Examining the Logistic Regression Model"
   ]
  },
  {
   "cell_type": "code",
   "execution_count": 73,
   "metadata": {},
   "outputs": [
    {
     "name": "stdout",
     "output_type": "stream",
     "text": [
      "Training Accuracy: 0.974078244101927\n",
      "Testing Accuracy: 0.8607281868310087\n"
     ]
    }
   ],
   "source": [
    "lr = LogisticRegression(solver='liblinear', multi_class='ovr')\n",
    "lr.fit(X_train_bcv4, y_train) \n",
    "lr_train_preds = lr.predict(X_train_bcv4)\n",
    "lr_preds = lr.predict(X_test_bcv4)\n",
    "lr_train_acc = accuracy_score(y_train, lr_train_preds)\n",
    "lr_test_acc = accuracy_score(y_test, lr_preds)\n",
    "print(\"Training Accuracy:\", lr_train_acc)\n",
    "print(\"Testing Accuracy:\", lr_test_acc)"
   ]
  },
  {
   "cell_type": "markdown",
   "metadata": {},
   "source": [
    "First, check the classification report to see how the model is performing on each of the three classes."
   ]
  },
  {
   "cell_type": "code",
   "execution_count": 75,
   "metadata": {},
   "outputs": [
    {
     "name": "stdout",
     "output_type": "stream",
     "text": [
      "              precision    recall  f1-score   support\n",
      "\n",
      "    negative       0.54      0.79      0.64      1373\n",
      "     neutral       0.30      0.66      0.41      1440\n",
      "    positive       0.99      0.88      0.93     21851\n",
      "\n",
      "    accuracy                           0.86     24664\n",
      "   macro avg       0.61      0.78      0.66     24664\n",
      "weighted avg       0.92      0.86      0.88     24664\n",
      "\n"
     ]
    }
   ],
   "source": [
    "print(classification_report(y_test, lr_preds))"
   ]
  },
  {
   "cell_type": "markdown",
   "metadata": {},
   "source": [
    "We see that the model performs the best on the positive class and worst on the neutral class.  Next I will examine the coefficients of the Logistic Regression model in order to generate a list of the most important words and phrases it has attributed to each of the classes."
   ]
  },
  {
   "cell_type": "code",
   "execution_count": 88,
   "metadata": {},
   "outputs": [
    {
     "data": {
      "text/plain": [
       "array(['positive'], dtype=object)"
      ]
     },
     "execution_count": 88,
     "metadata": {},
     "output_type": "execute_result"
    }
   ],
   "source": [
    "# Making a checking a prediction\n",
    "lr.predict(X_test_bcv4[0])"
   ]
  },
  {
   "cell_type": "code",
   "execution_count": 89,
   "metadata": {},
   "outputs": [
    {
     "name": "stdout",
     "output_type": "stream",
     "text": [
      "Confidence in Negative Label: 0.0004512520091981016\n",
      "Confidence in Neutral Label: 0.024424583762959286\n",
      "Confidence in Positive Label: 0.9751241642278425\n"
     ]
    }
   ],
   "source": [
    "# Using Predict_proba to generate the probabilities attributed to each class label\n",
    "confidence = lr.predict_proba(X_test_bcv4[0])\n",
    "print('Confidence in Negative Label:', confidence[0][0])\n",
    "print('Confidence in Neutral Label:', confidence[0][1])\n",
    "print('Confidence in Positive Label:', confidence[0][2])"
   ]
  },
  {
   "cell_type": "code",
   "execution_count": 91,
   "metadata": {},
   "outputs": [
    {
     "data": {
      "text/plain": [
       "'positive'"
      ]
     },
     "execution_count": 91,
     "metadata": {},
     "output_type": "execute_result"
    }
   ],
   "source": [
    "# Getting the correct label\n",
    "y_test.iloc[0]"
   ]
  },
  {
   "cell_type": "markdown",
   "metadata": {},
   "source": [
    "### Examining the Logistic Regression Coefficients"
   ]
  },
  {
   "cell_type": "code",
   "execution_count": 76,
   "metadata": {},
   "outputs": [
    {
     "data": {
      "text/plain": [
       "1753074"
      ]
     },
     "execution_count": 76,
     "metadata": {},
     "output_type": "execute_result"
    }
   ],
   "source": [
    "# The number of features\n",
    "len(vectorizer.get_feature_names())"
   ]
  },
  {
   "cell_type": "code",
   "execution_count": 77,
   "metadata": {},
   "outputs": [
    {
     "data": {
      "text/plain": [
       "(3, 1753074)"
      ]
     },
     "execution_count": 77,
     "metadata": {},
     "output_type": "execute_result"
    }
   ],
   "source": [
    "# The number of coefficients \n",
    "lr.coef_.shape"
   ]
  },
  {
   "cell_type": "code",
   "execution_count": 78,
   "metadata": {},
   "outputs": [
    {
     "data": {
      "text/plain": [
       "array(['negative', 'neutral', 'positive'], dtype=object)"
      ]
     },
     "execution_count": 78,
     "metadata": {},
     "output_type": "execute_result"
    }
   ],
   "source": [
    "# The classes \n",
    "lr.classes_"
   ]
  },
  {
   "cell_type": "markdown",
   "metadata": {},
   "source": [
    "For each of the three classes I will extract the coefficients of the logistic regression model for each of the features in the vectorizer.  I will then sort the coefficients and print the five that have the highest values."
   ]
  },
  {
   "cell_type": "markdown",
   "metadata": {},
   "source": [
    "#### The Negative Class"
   ]
  },
  {
   "cell_type": "code",
   "execution_count": 81,
   "metadata": {},
   "outputs": [],
   "source": [
    "feature_to_coef = {\n",
    "    word: coef for word, coef in zip(\n",
    "        vectorizer.get_feature_names(), lr.coef_[0])\n",
    "    }"
   ]
  },
  {
   "cell_type": "code",
   "execution_count": 82,
   "metadata": {},
   "outputs": [
    {
     "name": "stdout",
     "output_type": "stream",
     "text": [
      "('junk', 3.0726358223736043)\n",
      "('useless', 2.7383975515160652)\n",
      "('no good', 2.5882426497003044)\n",
      "('horribl', 2.5234650915169516)\n",
      "('terribl', 2.3688897595392047)\n"
     ]
    }
   ],
   "source": [
    "# Sort the created dictionary according to value and print the five largest\n",
    "for most_important_negative in sorted(feature_to_coef.items(), key=lambda x: x[1], reverse=True)[:5]:\n",
    "    print (most_important_negative)"
   ]
  },
  {
   "cell_type": "markdown",
   "metadata": {},
   "source": [
    "These are the most important negative phrases for the model, and these clearly represent a strongly negative sentiment."
   ]
  },
  {
   "cell_type": "markdown",
   "metadata": {},
   "source": [
    "#### The Neutral Class"
   ]
  },
  {
   "cell_type": "code",
   "execution_count": 83,
   "metadata": {},
   "outputs": [],
   "source": [
    "feature_to_coef = {\n",
    "    word: coef for word, coef in zip(\n",
    "        vectorizer.get_feature_names(), lr.coef_[1])\n",
    "    }"
   ]
  },
  {
   "cell_type": "code",
   "execution_count": 84,
   "metadata": {},
   "outputs": [
    {
     "name": "stdout",
     "output_type": "stream",
     "text": [
      "('three star', 4.0288150141789885)\n",
      "('okay', 2.350508982553373)\n",
      "('ok', 2.1440595823248274)\n",
      "('averag', 2.0967954420772332)\n",
      "('not bad', 2.0171706545013692)\n"
     ]
    }
   ],
   "source": [
    "for most_important_neutral in sorted(feature_to_coef.items(), key=lambda x: x[1], reverse=True)[:5]:\n",
    "    print (most_important_neutral)"
   ]
  },
  {
   "cell_type": "markdown",
   "metadata": {},
   "source": [
    "These are what you would expect out of a neutral sentiment.  \"Average\", \"okay\", \"not bad\", \"three stars\".  "
   ]
  },
  {
   "cell_type": "markdown",
   "metadata": {},
   "source": [
    "#### The Positive Class"
   ]
  },
  {
   "cell_type": "code",
   "execution_count": 85,
   "metadata": {},
   "outputs": [],
   "source": [
    "feature_to_coef = {\n",
    "    word: coef for word, coef in zip(\n",
    "        vectorizer.get_feature_names(), lr.coef_[2])\n",
    "    }"
   ]
  },
  {
   "cell_type": "code",
   "execution_count": 86,
   "metadata": {},
   "outputs": [
    {
     "name": "stdout",
     "output_type": "stream",
     "text": [
      "('awesom', 3.0363366564732814)\n",
      "('perfect', 3.0031275090763097)\n",
      "('love', 2.8913258130581916)\n",
      "('excel', 2.8235221812581006)\n",
      "('never disappoint', 2.524678366389776)\n"
     ]
    }
   ],
   "source": [
    "for most_important_positive in sorted(feature_to_coef.items(), key=lambda x: x[1], reverse=True)[:5]:\n",
    "    print (most_important_positive)"
   ]
  },
  {
   "cell_type": "markdown",
   "metadata": {},
   "source": [
    "And finally for positive, these words and phrases summarize a high rating and a positive sentiment.  "
   ]
  },
  {
   "cell_type": "markdown",
   "metadata": {},
   "source": [
    "### Saving the Split, Resampled, and Stemmed Data for the Model"
   ]
  },
  {
   "cell_type": "code",
   "execution_count": 92,
   "metadata": {},
   "outputs": [],
   "source": [
    "X_train2.to_csv('clean_training_data.csv')"
   ]
  },
  {
   "cell_type": "code",
   "execution_count": 93,
   "metadata": {},
   "outputs": [],
   "source": [
    "X_test2.to_csv('clean_testing_data.csv')"
   ]
  },
  {
   "cell_type": "code",
   "execution_count": 94,
   "metadata": {},
   "outputs": [],
   "source": [
    "y_train.to_csv('training_labels.csv')"
   ]
  },
  {
   "cell_type": "code",
   "execution_count": 95,
   "metadata": {},
   "outputs": [],
   "source": [
    "y_test.to_csv('testing_labels.csv')"
   ]
  },
  {
   "cell_type": "markdown",
   "metadata": {},
   "source": [
    "### Next Steps:"
   ]
  },
  {
   "cell_type": "markdown",
   "metadata": {},
   "source": [
    "The next notebook will build a pipeline to use all of the text cleaning functions to transform a user's English text into a form that is suitable for the model.  I will then use the model created here to generate the sentiment for the new text.  I will use this examination of the coefficients to produce a list of the most important words or phrases that model found in the input text in reaching its label determination. "
   ]
  },
  {
   "cell_type": "code",
   "execution_count": null,
   "metadata": {},
   "outputs": [],
   "source": []
  }
 ],
 "metadata": {
  "kernelspec": {
   "display_name": "Python 3",
   "language": "python",
   "name": "python3"
  },
  "language_info": {
   "codemirror_mode": {
    "name": "ipython",
    "version": 3
   },
   "file_extension": ".py",
   "mimetype": "text/x-python",
   "name": "python",
   "nbconvert_exporter": "python",
   "pygments_lexer": "ipython3",
   "version": "3.8.3"
  }
 },
 "nbformat": 4,
 "nbformat_minor": 4
}
